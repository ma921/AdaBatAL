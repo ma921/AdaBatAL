{
 "cells": [
  {
   "cell_type": "markdown",
   "id": "35133ee2-3026-49a5-bcd0-25c0a8bdbe3c",
   "metadata": {},
   "source": [
    "## 0. Load and set up"
   ]
  },
  {
   "cell_type": "code",
   "execution_count": null,
   "id": "1a4d2177",
   "metadata": {},
   "outputs": [],
   "source": [
    "import torch\n",
    "import matplotlib.pyplot as plt\n",
    "from utils._experiment import berkenkamp_1d\n",
    "from utils._gp import set_gp, normalise\n",
    "from utils._batch_query import landmark_points, batch_query, query_and_update\n",
    "from utils._prior import Uniform\n",
    "\n",
    "def visualise(train_X, train_Y, test_X, test_Y, gp):\n",
    "    pred = gp.likelihood(gp(test_X))\n",
    "    mean, stddev = pred.mean, pred.stddev\n",
    "    \n",
    "    plt.plot(test_X, normalise(test_Y, train_Y), color=\"k\", linestyle=\"--\")\n",
    "    plt.scatter(train_X, normalise(train_Y, train_Y), color=\"k\", label=\"observed\")\n",
    "    plt.plot(test_X, mean.detach(), color=\"b\")\n",
    "    plt.fill_between(\n",
    "        test_X.squeeze(),\n",
    "        (mean + stddev).detach(),\n",
    "        (mean - stddev).detach(),\n",
    "        color=\"b\",\n",
    "        alpha=0.3,\n",
    "    )\n",
    "    print(f\"The total predictive uncertainty: {stddev.sum().item()}\")\n",
    "    return stddev.sum().item()"
   ]
  },
  {
   "cell_type": "markdown",
   "id": "77eeb1e9-9d35-4040-ba11-1f1c0087ce6a",
   "metadata": {},
   "source": [
    "## 1. Initial setup and hyperparameters"
   ]
  },
  {
   "cell_type": "code",
   "execution_count": null,
   "id": "45c8787c-ea59-499e-a192-3eb11db5b58b",
   "metadata": {},
   "outputs": [],
   "source": [
    "### Hyperparameters\n",
    "# Condition: n_cand >> n_nys >= batch_size\n",
    "n_cand = 20000 # number of random candidate points\n",
    "n_nys = 100    # number of landmark points for Nyström approximation\n",
    "\n",
    "# Define the domain\n",
    "torch.manual_seed(42)\n",
    "bound = torch.tensor([[0],[1]])\n",
    "prior = Uniform(bound)\n",
    "\n",
    "# Generate initial samples and test points\n",
    "train_X = torch.tensor([0, 0.05, 0.4, 1]).unsqueeze(-1)\n",
    "train_Y = berkenkamp_1d(train_X).unsqueeze(-1)\n",
    "test_X = torch.linspace(0,1,1000).unsqueeze(-1)\n",
    "test_Y = berkenkamp_1d(test_X)\n",
    "\n",
    "# Supersamples for kernel quadrature\n",
    "X_cand = prior.sample(n_cand)\n",
    "X_nys = landmark_points(X_cand, n_nys)"
   ]
  },
  {
   "cell_type": "markdown",
   "id": "66cf5f41-7a48-4a5a-bda8-d8bf231d5fff",
   "metadata": {},
   "source": [
    "## 2. Try out adaptive batch size (AdaBatAl)"
   ]
  },
  {
   "cell_type": "code",
   "execution_count": null,
   "id": "dcce7293-1715-4ff2-962d-b272d8d7598c",
   "metadata": {},
   "outputs": [],
   "source": [
    "# try out changing tolerance and how the results changes\n",
    "fixed_batch=False # Adaptive batch size or fixed batch size\n",
    "batch_size = 10   # Max batch sizes to query\n",
    "tolerance = 0.4  # 1e-8 is almost exact computation (~fixed batch size). Larger adapts batch size more aggresively.\n",
    "\n",
    "results = []\n",
    "for i in range(10):\n",
    "    gp = set_gp(train_X, train_Y)\n",
    "    stddev = visualise(train_X, train_Y, test_X, test_Y, gp)\n",
    "    X_new = batch_query(gp, X_cand, X_nys, batch_size=batch_size, tolerance=tolerance, fixed_batch=fixed_batch)\n",
    "    train_X, _train_Y, X_new, Y_new = query_and_update(train_X, train_Y, X_new, berkenkamp_1d)\n",
    "    plt.scatter(X_new, normalise(Y_new, train_Y), color=\"r\", label=\"selected_points\")\n",
    "    plt.legend()\n",
    "    plt.show()\n",
    "    train_Y = _train_Y\n",
    "    print(f\"Actually queried batch samples: {len(X_new)}\")\n",
    "    results.append([len(X_new), stddev])\n",
    "results = torch.tensor(results)"
   ]
  },
  {
   "cell_type": "code",
   "execution_count": null,
   "id": "6648c541-2012-4638-a45e-6ffb146130c4",
   "metadata": {},
   "outputs": [],
   "source": [
    "plt.plot(results[:,0], \"-o\")\n",
    "plt.xlabel(\"iteration\")\n",
    "plt.ylabel(\"batch size\")\n",
    "plt.show()\n",
    "\n",
    "plt.plot(results[:,1], \"-o\")\n",
    "plt.xlabel(\"iteration\")\n",
    "plt.ylabel(\"total predictive uncertainty\")\n",
    "plt.yscale(\"log\")"
   ]
  },
  {
   "cell_type": "code",
   "execution_count": null,
   "id": "947f491e-1d3e-439b-89e2-82df0f0e6137",
   "metadata": {},
   "outputs": [],
   "source": []
  }
 ],
 "metadata": {
  "kernelspec": {
   "display_name": "Python 3 (ipykernel)",
   "language": "python",
   "name": "python3"
  },
  "language_info": {
   "codemirror_mode": {
    "name": "ipython",
    "version": 3
   },
   "file_extension": ".py",
   "mimetype": "text/x-python",
   "name": "python",
   "nbconvert_exporter": "python",
   "pygments_lexer": "ipython3",
   "version": "3.11.7"
  }
 },
 "nbformat": 4,
 "nbformat_minor": 5
}
